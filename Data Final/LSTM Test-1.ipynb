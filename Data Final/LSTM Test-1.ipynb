{
 "cells": [
  {
   "cell_type": "code",
   "execution_count": 13,
   "metadata": {},
   "outputs": [],
   "source": [
    "import keras\n",
    "from keras.layers import LSTM, Dropout, Dense\n",
    "import tensorflow as tf\n",
    "import numpy as np\n",
    "import pandas as pd\n",
    "from sklearn.preprocessing import LabelEncoder\n",
    "from sklearn.preprocessing import MinMaxScaler\n",
    "from math import sqrt\n",
    "from numpy import concatenate\n",
    "from matplotlib import pyplot\n",
    "from pandas import read_csv\n",
    "from pandas import DataFrame\n",
    "from pandas import concat\n",
    "from sklearn.preprocessing import MinMaxScaler\n",
    "from sklearn.preprocessing import LabelEncoder\n",
    "from sklearn.metrics import mean_squared_error\n",
    "from keras.models import Sequential\n",
    "from keras.layers import Dense\n",
    "from keras.layers import LSTM\n",
    "\n",
    "from sklearn.metrics import confusion_matrix"
   ]
  },
  {
   "cell_type": "code",
   "execution_count": 14,
   "metadata": {},
   "outputs": [
    {
     "data": {
      "text/html": [
       "<div>\n",
       "<style scoped>\n",
       "    .dataframe tbody tr th:only-of-type {\n",
       "        vertical-align: middle;\n",
       "    }\n",
       "\n",
       "    .dataframe tbody tr th {\n",
       "        vertical-align: top;\n",
       "    }\n",
       "\n",
       "    .dataframe thead th {\n",
       "        text-align: right;\n",
       "    }\n",
       "</style>\n",
       "<table border=\"1\" class=\"dataframe\">\n",
       "  <thead>\n",
       "    <tr style=\"text-align: right;\">\n",
       "      <th></th>\n",
       "      <th>Time</th>\n",
       "      <th>Block Height</th>\n",
       "      <th>Hook Load</th>\n",
       "      <th>WOB</th>\n",
       "      <th>Torque</th>\n",
       "      <th>Flow In</th>\n",
       "      <th>Pump Pressure</th>\n",
       "      <th>RPM</th>\n",
       "      <th>ROP</th>\n",
       "      <th>Evento</th>\n",
       "      <th>Pega</th>\n",
       "      <th>Actividad</th>\n",
       "    </tr>\n",
       "  </thead>\n",
       "  <tbody>\n",
       "    <tr>\n",
       "      <th>0</th>\n",
       "      <td>2015-02-01 00:00:57</td>\n",
       "      <td>57.708860</td>\n",
       "      <td>430.624454</td>\n",
       "      <td>1.301011</td>\n",
       "      <td>1.016953</td>\n",
       "      <td>357.482920</td>\n",
       "      <td>2022.031010</td>\n",
       "      <td>68.507219</td>\n",
       "      <td>0.0</td>\n",
       "      <td>Evento 1</td>\n",
       "      <td>0</td>\n",
       "      <td>RIH</td>\n",
       "    </tr>\n",
       "    <tr>\n",
       "      <th>1</th>\n",
       "      <td>2015-02-01 00:01:00</td>\n",
       "      <td>55.942886</td>\n",
       "      <td>429.602631</td>\n",
       "      <td>1.165243</td>\n",
       "      <td>0.680712</td>\n",
       "      <td>360.418803</td>\n",
       "      <td>2058.592517</td>\n",
       "      <td>60.428979</td>\n",
       "      <td>0.0</td>\n",
       "      <td>Evento 1</td>\n",
       "      <td>0</td>\n",
       "      <td>RIH</td>\n",
       "    </tr>\n",
       "    <tr>\n",
       "      <th>2</th>\n",
       "      <td>2015-02-01 00:01:03</td>\n",
       "      <td>54.164406</td>\n",
       "      <td>428.439948</td>\n",
       "      <td>0.942667</td>\n",
       "      <td>0.394440</td>\n",
       "      <td>365.651801</td>\n",
       "      <td>2097.301313</td>\n",
       "      <td>52.715292</td>\n",
       "      <td>0.0</td>\n",
       "      <td>Evento 1</td>\n",
       "      <td>0</td>\n",
       "      <td>RIH</td>\n",
       "    </tr>\n",
       "    <tr>\n",
       "      <th>3</th>\n",
       "      <td>2015-02-01 00:01:06</td>\n",
       "      <td>52.383372</td>\n",
       "      <td>428.350848</td>\n",
       "      <td>0.769924</td>\n",
       "      <td>0.365904</td>\n",
       "      <td>366.095786</td>\n",
       "      <td>2096.310389</td>\n",
       "      <td>46.199610</td>\n",
       "      <td>0.0</td>\n",
       "      <td>Evento 1</td>\n",
       "      <td>0</td>\n",
       "      <td>RIH</td>\n",
       "    </tr>\n",
       "    <tr>\n",
       "      <th>4</th>\n",
       "      <td>2015-02-01 00:01:09</td>\n",
       "      <td>50.617904</td>\n",
       "      <td>428.265523</td>\n",
       "      <td>0.516112</td>\n",
       "      <td>0.341655</td>\n",
       "      <td>366.543219</td>\n",
       "      <td>2127.829605</td>\n",
       "      <td>39.726500</td>\n",
       "      <td>0.0</td>\n",
       "      <td>Evento 1</td>\n",
       "      <td>0</td>\n",
       "      <td>RIH</td>\n",
       "    </tr>\n",
       "    <tr>\n",
       "      <th>...</th>\n",
       "      <td>...</td>\n",
       "      <td>...</td>\n",
       "      <td>...</td>\n",
       "      <td>...</td>\n",
       "      <td>...</td>\n",
       "      <td>...</td>\n",
       "      <td>...</td>\n",
       "      <td>...</td>\n",
       "      <td>...</td>\n",
       "      <td>...</td>\n",
       "      <td>...</td>\n",
       "      <td>...</td>\n",
       "    </tr>\n",
       "    <tr>\n",
       "      <th>179463</th>\n",
       "      <td>2014-04-23 17:01:33</td>\n",
       "      <td>49.594614</td>\n",
       "      <td>306.238681</td>\n",
       "      <td>6.478149</td>\n",
       "      <td>4.480541</td>\n",
       "      <td>72.917473</td>\n",
       "      <td>1455.683618</td>\n",
       "      <td>89.093420</td>\n",
       "      <td>0.0</td>\n",
       "      <td>Evento 16</td>\n",
       "      <td>1</td>\n",
       "      <td>RIH</td>\n",
       "    </tr>\n",
       "    <tr>\n",
       "      <th>179464</th>\n",
       "      <td>2014-04-23 17:01:36</td>\n",
       "      <td>49.594614</td>\n",
       "      <td>306.238681</td>\n",
       "      <td>6.478149</td>\n",
       "      <td>4.480541</td>\n",
       "      <td>72.917473</td>\n",
       "      <td>1455.683618</td>\n",
       "      <td>89.093420</td>\n",
       "      <td>0.0</td>\n",
       "      <td>Evento 16</td>\n",
       "      <td>1</td>\n",
       "      <td>RIH</td>\n",
       "    </tr>\n",
       "    <tr>\n",
       "      <th>179465</th>\n",
       "      <td>2014-04-23 17:01:39</td>\n",
       "      <td>49.614314</td>\n",
       "      <td>306.256665</td>\n",
       "      <td>6.008588</td>\n",
       "      <td>4.371957</td>\n",
       "      <td>67.291780</td>\n",
       "      <td>1382.719355</td>\n",
       "      <td>87.606353</td>\n",
       "      <td>0.0</td>\n",
       "      <td>Evento 16</td>\n",
       "      <td>1</td>\n",
       "      <td>RIH</td>\n",
       "    </tr>\n",
       "    <tr>\n",
       "      <th>179466</th>\n",
       "      <td>2014-04-23 17:01:42</td>\n",
       "      <td>49.614314</td>\n",
       "      <td>306.256665</td>\n",
       "      <td>6.008588</td>\n",
       "      <td>4.371957</td>\n",
       "      <td>67.291780</td>\n",
       "      <td>1382.719355</td>\n",
       "      <td>87.606353</td>\n",
       "      <td>0.0</td>\n",
       "      <td>Evento 16</td>\n",
       "      <td>1</td>\n",
       "      <td>RIH</td>\n",
       "    </tr>\n",
       "    <tr>\n",
       "      <th>179467</th>\n",
       "      <td>2014-04-23 17:01:45</td>\n",
       "      <td>48.810550</td>\n",
       "      <td>306.328691</td>\n",
       "      <td>6.008588</td>\n",
       "      <td>4.435632</td>\n",
       "      <td>65.279816</td>\n",
       "      <td>1381.782014</td>\n",
       "      <td>88.943299</td>\n",
       "      <td>0.0</td>\n",
       "      <td>Evento 16</td>\n",
       "      <td>1</td>\n",
       "      <td>RIH</td>\n",
       "    </tr>\n",
       "  </tbody>\n",
       "</table>\n",
       "<p>179468 rows × 12 columns</p>\n",
       "</div>"
      ],
      "text/plain": [
       "                      Time  Block Height   Hook Load       WOB    Torque  \\\n",
       "0      2015-02-01 00:00:57     57.708860  430.624454  1.301011  1.016953   \n",
       "1      2015-02-01 00:01:00     55.942886  429.602631  1.165243  0.680712   \n",
       "2      2015-02-01 00:01:03     54.164406  428.439948  0.942667  0.394440   \n",
       "3      2015-02-01 00:01:06     52.383372  428.350848  0.769924  0.365904   \n",
       "4      2015-02-01 00:01:09     50.617904  428.265523  0.516112  0.341655   \n",
       "...                    ...           ...         ...       ...       ...   \n",
       "179463 2014-04-23 17:01:33     49.594614  306.238681  6.478149  4.480541   \n",
       "179464 2014-04-23 17:01:36     49.594614  306.238681  6.478149  4.480541   \n",
       "179465 2014-04-23 17:01:39     49.614314  306.256665  6.008588  4.371957   \n",
       "179466 2014-04-23 17:01:42     49.614314  306.256665  6.008588  4.371957   \n",
       "179467 2014-04-23 17:01:45     48.810550  306.328691  6.008588  4.435632   \n",
       "\n",
       "           Flow In  Pump Pressure        RPM  ROP     Evento  Pega Actividad  \n",
       "0       357.482920    2022.031010  68.507219  0.0   Evento 1     0       RIH  \n",
       "1       360.418803    2058.592517  60.428979  0.0   Evento 1     0       RIH  \n",
       "2       365.651801    2097.301313  52.715292  0.0   Evento 1     0       RIH  \n",
       "3       366.095786    2096.310389  46.199610  0.0   Evento 1     0       RIH  \n",
       "4       366.543219    2127.829605  39.726500  0.0   Evento 1     0       RIH  \n",
       "...            ...            ...        ...  ...        ...   ...       ...  \n",
       "179463   72.917473    1455.683618  89.093420  0.0  Evento 16     1       RIH  \n",
       "179464   72.917473    1455.683618  89.093420  0.0  Evento 16     1       RIH  \n",
       "179465   67.291780    1382.719355  87.606353  0.0  Evento 16     1       RIH  \n",
       "179466   67.291780    1382.719355  87.606353  0.0  Evento 16     1       RIH  \n",
       "179467   65.279816    1381.782014  88.943299  0.0  Evento 16     1       RIH  \n",
       "\n",
       "[179468 rows x 12 columns]"
      ]
     },
     "execution_count": 14,
     "metadata": {},
     "output_type": "execute_result"
    }
   ],
   "source": [
    "Base = pd.read_csv(\"Base.csv\")\n",
    "Base['Time'] = pd.to_datetime(Base['Time'])\n",
    "Base"
   ]
  },
  {
   "cell_type": "code",
   "execution_count": 15,
   "metadata": {},
   "outputs": [
    {
     "name": "stdout",
     "output_type": "stream",
     "text": [
      "<class 'pandas.core.frame.DataFrame'>\n",
      "RangeIndex: 179468 entries, 0 to 179467\n",
      "Data columns (total 12 columns):\n",
      " #   Column         Non-Null Count   Dtype         \n",
      "---  ------         --------------   -----         \n",
      " 0   Time           179468 non-null  datetime64[ns]\n",
      " 1   Block Height   179468 non-null  float64       \n",
      " 2   Hook Load      179468 non-null  float64       \n",
      " 3   WOB            179468 non-null  float64       \n",
      " 4   Torque         179468 non-null  float64       \n",
      " 5   Flow In        179468 non-null  float64       \n",
      " 6   Pump Pressure  179468 non-null  float64       \n",
      " 7   RPM            179468 non-null  float64       \n",
      " 8   ROP            179468 non-null  float64       \n",
      " 9   Evento         179468 non-null  object        \n",
      " 10  Pega           179468 non-null  int64         \n",
      " 11  Actividad      179468 non-null  object        \n",
      "dtypes: datetime64[ns](1), float64(8), int64(1), object(2)\n",
      "memory usage: 16.4+ MB\n"
     ]
    }
   ],
   "source": [
    "Base.info()"
   ]
  },
  {
   "cell_type": "code",
   "execution_count": 16,
   "metadata": {},
   "outputs": [],
   "source": [
    "encoder = LabelEncoder()\n",
    "Base[\"Evento\"] = encoder.fit_transform(Base[\"Evento\"])\n",
    "Base[\"Actividad\"] = encoder.fit_transform(Base[\"Actividad\"])\n",
    "Base.set_index('Time',inplace=True)"
   ]
  },
  {
   "cell_type": "code",
   "execution_count": 17,
   "metadata": {},
   "outputs": [
    {
     "data": {
      "text/html": [
       "<div>\n",
       "<style scoped>\n",
       "    .dataframe tbody tr th:only-of-type {\n",
       "        vertical-align: middle;\n",
       "    }\n",
       "\n",
       "    .dataframe tbody tr th {\n",
       "        vertical-align: top;\n",
       "    }\n",
       "\n",
       "    .dataframe thead th {\n",
       "        text-align: right;\n",
       "    }\n",
       "</style>\n",
       "<table border=\"1\" class=\"dataframe\">\n",
       "  <thead>\n",
       "    <tr style=\"text-align: right;\">\n",
       "      <th></th>\n",
       "      <th>Block Height</th>\n",
       "      <th>Hook Load</th>\n",
       "      <th>WOB</th>\n",
       "      <th>Torque</th>\n",
       "      <th>Flow In</th>\n",
       "      <th>Pump Pressure</th>\n",
       "      <th>RPM</th>\n",
       "      <th>ROP</th>\n",
       "      <th>Evento</th>\n",
       "      <th>Pega</th>\n",
       "      <th>Actividad</th>\n",
       "    </tr>\n",
       "    <tr>\n",
       "      <th>Time</th>\n",
       "      <th></th>\n",
       "      <th></th>\n",
       "      <th></th>\n",
       "      <th></th>\n",
       "      <th></th>\n",
       "      <th></th>\n",
       "      <th></th>\n",
       "      <th></th>\n",
       "      <th></th>\n",
       "      <th></th>\n",
       "      <th></th>\n",
       "    </tr>\n",
       "  </thead>\n",
       "  <tbody>\n",
       "    <tr>\n",
       "      <th>2015-02-01 00:00:57</th>\n",
       "      <td>57.708860</td>\n",
       "      <td>430.624454</td>\n",
       "      <td>1.301011</td>\n",
       "      <td>1.016953</td>\n",
       "      <td>357.482920</td>\n",
       "      <td>2022.031010</td>\n",
       "      <td>68.507219</td>\n",
       "      <td>0.0</td>\n",
       "      <td>0</td>\n",
       "      <td>0</td>\n",
       "      <td>1</td>\n",
       "    </tr>\n",
       "    <tr>\n",
       "      <th>2015-02-01 00:01:00</th>\n",
       "      <td>55.942886</td>\n",
       "      <td>429.602631</td>\n",
       "      <td>1.165243</td>\n",
       "      <td>0.680712</td>\n",
       "      <td>360.418803</td>\n",
       "      <td>2058.592517</td>\n",
       "      <td>60.428979</td>\n",
       "      <td>0.0</td>\n",
       "      <td>0</td>\n",
       "      <td>0</td>\n",
       "      <td>1</td>\n",
       "    </tr>\n",
       "    <tr>\n",
       "      <th>2015-02-01 00:01:03</th>\n",
       "      <td>54.164406</td>\n",
       "      <td>428.439948</td>\n",
       "      <td>0.942667</td>\n",
       "      <td>0.394440</td>\n",
       "      <td>365.651801</td>\n",
       "      <td>2097.301313</td>\n",
       "      <td>52.715292</td>\n",
       "      <td>0.0</td>\n",
       "      <td>0</td>\n",
       "      <td>0</td>\n",
       "      <td>1</td>\n",
       "    </tr>\n",
       "    <tr>\n",
       "      <th>2015-02-01 00:01:06</th>\n",
       "      <td>52.383372</td>\n",
       "      <td>428.350848</td>\n",
       "      <td>0.769924</td>\n",
       "      <td>0.365904</td>\n",
       "      <td>366.095786</td>\n",
       "      <td>2096.310389</td>\n",
       "      <td>46.199610</td>\n",
       "      <td>0.0</td>\n",
       "      <td>0</td>\n",
       "      <td>0</td>\n",
       "      <td>1</td>\n",
       "    </tr>\n",
       "    <tr>\n",
       "      <th>2015-02-01 00:01:09</th>\n",
       "      <td>50.617904</td>\n",
       "      <td>428.265523</td>\n",
       "      <td>0.516112</td>\n",
       "      <td>0.341655</td>\n",
       "      <td>366.543219</td>\n",
       "      <td>2127.829605</td>\n",
       "      <td>39.726500</td>\n",
       "      <td>0.0</td>\n",
       "      <td>0</td>\n",
       "      <td>0</td>\n",
       "      <td>1</td>\n",
       "    </tr>\n",
       "    <tr>\n",
       "      <th>...</th>\n",
       "      <td>...</td>\n",
       "      <td>...</td>\n",
       "      <td>...</td>\n",
       "      <td>...</td>\n",
       "      <td>...</td>\n",
       "      <td>...</td>\n",
       "      <td>...</td>\n",
       "      <td>...</td>\n",
       "      <td>...</td>\n",
       "      <td>...</td>\n",
       "      <td>...</td>\n",
       "    </tr>\n",
       "    <tr>\n",
       "      <th>2014-04-23 17:01:33</th>\n",
       "      <td>49.594614</td>\n",
       "      <td>306.238681</td>\n",
       "      <td>6.478149</td>\n",
       "      <td>4.480541</td>\n",
       "      <td>72.917473</td>\n",
       "      <td>1455.683618</td>\n",
       "      <td>89.093420</td>\n",
       "      <td>0.0</td>\n",
       "      <td>7</td>\n",
       "      <td>1</td>\n",
       "      <td>1</td>\n",
       "    </tr>\n",
       "    <tr>\n",
       "      <th>2014-04-23 17:01:36</th>\n",
       "      <td>49.594614</td>\n",
       "      <td>306.238681</td>\n",
       "      <td>6.478149</td>\n",
       "      <td>4.480541</td>\n",
       "      <td>72.917473</td>\n",
       "      <td>1455.683618</td>\n",
       "      <td>89.093420</td>\n",
       "      <td>0.0</td>\n",
       "      <td>7</td>\n",
       "      <td>1</td>\n",
       "      <td>1</td>\n",
       "    </tr>\n",
       "    <tr>\n",
       "      <th>2014-04-23 17:01:39</th>\n",
       "      <td>49.614314</td>\n",
       "      <td>306.256665</td>\n",
       "      <td>6.008588</td>\n",
       "      <td>4.371957</td>\n",
       "      <td>67.291780</td>\n",
       "      <td>1382.719355</td>\n",
       "      <td>87.606353</td>\n",
       "      <td>0.0</td>\n",
       "      <td>7</td>\n",
       "      <td>1</td>\n",
       "      <td>1</td>\n",
       "    </tr>\n",
       "    <tr>\n",
       "      <th>2014-04-23 17:01:42</th>\n",
       "      <td>49.614314</td>\n",
       "      <td>306.256665</td>\n",
       "      <td>6.008588</td>\n",
       "      <td>4.371957</td>\n",
       "      <td>67.291780</td>\n",
       "      <td>1382.719355</td>\n",
       "      <td>87.606353</td>\n",
       "      <td>0.0</td>\n",
       "      <td>7</td>\n",
       "      <td>1</td>\n",
       "      <td>1</td>\n",
       "    </tr>\n",
       "    <tr>\n",
       "      <th>2014-04-23 17:01:45</th>\n",
       "      <td>48.810550</td>\n",
       "      <td>306.328691</td>\n",
       "      <td>6.008588</td>\n",
       "      <td>4.435632</td>\n",
       "      <td>65.279816</td>\n",
       "      <td>1381.782014</td>\n",
       "      <td>88.943299</td>\n",
       "      <td>0.0</td>\n",
       "      <td>7</td>\n",
       "      <td>1</td>\n",
       "      <td>1</td>\n",
       "    </tr>\n",
       "  </tbody>\n",
       "</table>\n",
       "<p>179468 rows × 11 columns</p>\n",
       "</div>"
      ],
      "text/plain": [
       "                     Block Height   Hook Load       WOB    Torque     Flow In  \\\n",
       "Time                                                                            \n",
       "2015-02-01 00:00:57     57.708860  430.624454  1.301011  1.016953  357.482920   \n",
       "2015-02-01 00:01:00     55.942886  429.602631  1.165243  0.680712  360.418803   \n",
       "2015-02-01 00:01:03     54.164406  428.439948  0.942667  0.394440  365.651801   \n",
       "2015-02-01 00:01:06     52.383372  428.350848  0.769924  0.365904  366.095786   \n",
       "2015-02-01 00:01:09     50.617904  428.265523  0.516112  0.341655  366.543219   \n",
       "...                           ...         ...       ...       ...         ...   \n",
       "2014-04-23 17:01:33     49.594614  306.238681  6.478149  4.480541   72.917473   \n",
       "2014-04-23 17:01:36     49.594614  306.238681  6.478149  4.480541   72.917473   \n",
       "2014-04-23 17:01:39     49.614314  306.256665  6.008588  4.371957   67.291780   \n",
       "2014-04-23 17:01:42     49.614314  306.256665  6.008588  4.371957   67.291780   \n",
       "2014-04-23 17:01:45     48.810550  306.328691  6.008588  4.435632   65.279816   \n",
       "\n",
       "                     Pump Pressure        RPM  ROP  Evento  Pega  Actividad  \n",
       "Time                                                                         \n",
       "2015-02-01 00:00:57    2022.031010  68.507219  0.0       0     0          1  \n",
       "2015-02-01 00:01:00    2058.592517  60.428979  0.0       0     0          1  \n",
       "2015-02-01 00:01:03    2097.301313  52.715292  0.0       0     0          1  \n",
       "2015-02-01 00:01:06    2096.310389  46.199610  0.0       0     0          1  \n",
       "2015-02-01 00:01:09    2127.829605  39.726500  0.0       0     0          1  \n",
       "...                            ...        ...  ...     ...   ...        ...  \n",
       "2014-04-23 17:01:33    1455.683618  89.093420  0.0       7     1          1  \n",
       "2014-04-23 17:01:36    1455.683618  89.093420  0.0       7     1          1  \n",
       "2014-04-23 17:01:39    1382.719355  87.606353  0.0       7     1          1  \n",
       "2014-04-23 17:01:42    1382.719355  87.606353  0.0       7     1          1  \n",
       "2014-04-23 17:01:45    1381.782014  88.943299  0.0       7     1          1  \n",
       "\n",
       "[179468 rows x 11 columns]"
      ]
     },
     "execution_count": 17,
     "metadata": {},
     "output_type": "execute_result"
    }
   ],
   "source": [
    "Base"
   ]
  },
  {
   "cell_type": "code",
   "execution_count": 18,
   "metadata": {},
   "outputs": [
    {
     "data": {
      "text/plain": [
       "179468"
      ]
     },
     "execution_count": 18,
     "metadata": {},
     "output_type": "execute_result"
    }
   ],
   "source": [
    "rec_count = len(Base)\n",
    "rec_count"
   ]
  },
  {
   "cell_type": "code",
   "execution_count": 19,
   "metadata": {},
   "outputs": [],
   "source": [
    "def generate_data(X, y, sequence_length, step):\n",
    "    X_local = []\n",
    "    y_local = []\n",
    "    for start in range(0, len(Base) - sequence_length, step):\n",
    "        end = start + sequence_length\n",
    "        X_local.append(X[start:end])\n",
    "        y_local.append(y[end-1])\n",
    "    return np.array(X_local), np.array(y_local)"
   ]
  },
  {
   "cell_type": "code",
   "execution_count": 22,
   "metadata": {},
   "outputs": [
    {
     "data": {
      "text/plain": [
       "Time\n",
       "2015-02-01 00:00:57    0\n",
       "2015-02-01 00:01:00    0\n",
       "2015-02-01 00:01:03    0\n",
       "2015-02-01 00:01:06    0\n",
       "2015-02-01 00:01:09    0\n",
       "                      ..\n",
       "2014-04-23 17:01:33    1\n",
       "2014-04-23 17:01:36    1\n",
       "2014-04-23 17:01:39    1\n",
       "2014-04-23 17:01:42    1\n",
       "2014-04-23 17:01:45    1\n",
       "Name: Pega, Length: 179468, dtype: int64"
      ]
     },
     "execution_count": 22,
     "metadata": {},
     "output_type": "execute_result"
    }
   ],
   "source": [
    "Base.Pega"
   ]
  },
  {
   "cell_type": "code",
   "execution_count": 8,
   "metadata": {},
   "outputs": [],
   "source": [
    "X_sequence, y = generate_data(Base.drop(columns=[\"Pega\"]).values, Base.Pega,20*10,1)"
   ]
  },
  {
   "cell_type": "code",
   "execution_count": 9,
   "metadata": {},
   "outputs": [
    {
     "data": {
      "text/plain": [
       "((179268, 200, 10), (179268,))"
      ]
     },
     "execution_count": 9,
     "metadata": {},
     "output_type": "execute_result"
    }
   ],
   "source": [
    "X_sequence.shape, y.shape"
   ]
  },
  {
   "cell_type": "code",
   "execution_count": 235,
   "metadata": {},
   "outputs": [
    {
     "name": "stdout",
     "output_type": "stream",
     "text": [
      "Model: \"sequential_20\"\n",
      "_________________________________________________________________\n",
      " Layer (type)                Output Shape              Param #   \n",
      "=================================================================\n",
      " lstm_34 (LSTM)              (None, 200, 30)           4920      \n",
      "                                                                 \n",
      " dropout_28 (Dropout)        (None, 200, 30)           0         \n",
      "                                                                 \n",
      " lstm_35 (LSTM)              (None, 200, 20)           4080      \n",
      "                                                                 \n",
      " dropout_29 (Dropout)        (None, 200, 20)           0         \n",
      "                                                                 \n",
      " lstm_36 (LSTM)              (None, 10)                1240      \n",
      "                                                                 \n",
      " dense_17 (Dense)            (None, 1)                 11        \n",
      "                                                                 \n",
      "=================================================================\n",
      "Total params: 10,251\n",
      "Trainable params: 10,251\n",
      "Non-trainable params: 0\n",
      "_________________________________________________________________\n"
     ]
    }
   ],
   "source": [
    "model = keras.Sequential()\n",
    "model.add(LSTM(30, input_shape = (200, 10),return_sequences=True))\n",
    "model.add(Dropout(0.2))\n",
    "model.add(LSTM(20,return_sequences=True))\n",
    "model.add(Dropout(0.2))\n",
    "model.add(LSTM(10))\n",
    "model.add(Dense(1, activation=\"sigmoid\"))\n",
    "model.compile(loss=\"binary_crossentropy\"\n",
    "              , metrics=[keras.metrics.binary_accuracy]\n",
    "              , optimizer=\"adam\")\n",
    "\n",
    "model.summary()"
   ]
  },
  {
   "cell_type": "code",
   "execution_count": 10,
   "metadata": {},
   "outputs": [],
   "source": [
    "training_size = int(len(X_sequence) * 0.7)"
   ]
  },
  {
   "cell_type": "code",
   "execution_count": 11,
   "metadata": {},
   "outputs": [],
   "source": [
    "X_train, y_train = X_sequence[:training_size], y[:training_size]\n",
    "X_test, y_test = X_sequence[training_size:], y[training_size:]"
   ]
  },
  {
   "cell_type": "code",
   "execution_count": 12,
   "metadata": {},
   "outputs": [
    {
     "data": {
      "text/plain": [
       "(179268, 200, 10)"
      ]
     },
     "execution_count": 12,
     "metadata": {},
     "output_type": "execute_result"
    }
   ],
   "source": [
    "np.shape(X_sequence)"
   ]
  },
  {
   "cell_type": "code",
   "execution_count": 238,
   "metadata": {},
   "outputs": [
    {
     "name": "stdout",
     "output_type": "stream",
     "text": [
      "Epoch 1/5\n",
      "1961/1961 [==============================] - 393s 197ms/step - loss: 0.1557 - binary_accuracy: 0.9497\n",
      "Epoch 2/5\n",
      "1961/1961 [==============================] - 402s 205ms/step - loss: 0.1167 - binary_accuracy: 0.9610\n",
      "Epoch 3/5\n",
      "1961/1961 [==============================] - 400s 204ms/step - loss: 0.0984 - binary_accuracy: 0.9652\n",
      "Epoch 4/5\n",
      "1961/1961 [==============================] - 375s 191ms/step - loss: 0.0853 - binary_accuracy: 0.9710\n",
      "Epoch 5/5\n",
      "1961/1961 [==============================] - 368s 188ms/step - loss: 0.0689 - binary_accuracy: 0.9768\n"
     ]
    },
    {
     "data": {
      "text/plain": [
       "<keras.callbacks.History at 0x2de5b59df40>"
      ]
     },
     "execution_count": 238,
     "metadata": {},
     "output_type": "execute_result"
    }
   ],
   "source": [
    "model.fit(X_train, y_train, batch_size=64, epochs=5)"
   ]
  },
  {
   "cell_type": "code",
   "execution_count": 244,
   "metadata": {},
   "outputs": [
    {
     "data": {
      "text/plain": [
       "array([[[ 98.33889182, 232.95248162,   0.        , ...,   0.        ,\n",
       "           3.        ,   0.        ],\n",
       "        [ 98.53113322, 232.92943634,   0.        , ...,   0.        ,\n",
       "           3.        ,   0.        ],\n",
       "        [ 98.75430367, 232.84002503,   0.        , ...,   0.        ,\n",
       "           3.        ,   0.        ],\n",
       "        ...,\n",
       "        [ 18.53110499,  82.13730598,   0.        , ...,   0.        ,\n",
       "           3.        ,   0.        ],\n",
       "        [ 16.6165582 ,  86.31416929,   0.        , ...,   0.        ,\n",
       "           3.        ,   0.        ],\n",
       "        [ 15.00029126,  91.15996602,   0.        , ...,   0.        ,\n",
       "           3.        ,   0.        ]],\n",
       "\n",
       "       [[ 98.53113322, 232.92943634,   0.        , ...,   0.        ,\n",
       "           3.        ,   0.        ],\n",
       "        [ 98.75430367, 232.84002503,   0.        , ...,   0.        ,\n",
       "           3.        ,   0.        ],\n",
       "        [ 98.98873452, 232.73140723,   0.        , ...,   0.        ,\n",
       "           3.        ,   0.        ],\n",
       "        ...,\n",
       "        [ 16.6165582 ,  86.31416929,   0.        , ...,   0.        ,\n",
       "           3.        ,   0.        ],\n",
       "        [ 15.00029126,  91.15996602,   0.        , ...,   0.        ,\n",
       "           3.        ,   0.        ],\n",
       "        [ 13.66384773,  96.53745068,   0.        , ...,   0.        ,\n",
       "           3.        ,   0.        ]],\n",
       "\n",
       "       [[ 98.75430367, 232.84002503,   0.        , ...,   0.        ,\n",
       "           3.        ,   0.        ],\n",
       "        [ 98.98873452, 232.73140723,   0.        , ...,   0.        ,\n",
       "           3.        ,   0.        ],\n",
       "        [ 99.21618287, 232.67113788,   0.        , ...,   0.        ,\n",
       "           3.        ,   0.        ],\n",
       "        ...,\n",
       "        [ 15.00029126,  91.15996602,   0.        , ...,   0.        ,\n",
       "           3.        ,   0.        ],\n",
       "        [ 13.66384773,  96.53745068,   0.        , ...,   0.        ,\n",
       "           3.        ,   0.        ],\n",
       "        [ 12.59471453, 102.53476136,   0.        , ...,   0.        ,\n",
       "           3.        ,   0.        ]],\n",
       "\n",
       "       ...,\n",
       "\n",
       "       [[ 55.98066205, 298.29787875,   5.15168197, ...,   0.        ,\n",
       "           7.        ,   1.        ],\n",
       "        [ 55.98062001, 298.52575222,   4.99527711, ...,   0.        ,\n",
       "           7.        ,   1.        ],\n",
       "        [ 55.98062913, 298.76890475,   5.19010649, ...,   0.        ,\n",
       "           7.        ,   1.        ],\n",
       "        ...,\n",
       "        [ 50.21555817, 306.29869619,   6.47814899, ...,   0.        ,\n",
       "           7.        ,   1.        ],\n",
       "        [ 49.59461404, 306.2386814 ,   6.47814899, ...,   0.        ,\n",
       "           7.        ,   1.        ],\n",
       "        [ 49.59461404, 306.2386814 ,   6.47814899, ...,   0.        ,\n",
       "           7.        ,   1.        ]],\n",
       "\n",
       "       [[ 55.98062001, 298.52575222,   4.99527711, ...,   0.        ,\n",
       "           7.        ,   1.        ],\n",
       "        [ 55.98062913, 298.76890475,   5.19010649, ...,   0.        ,\n",
       "           7.        ,   1.        ],\n",
       "        [ 55.98063653, 299.03909529,   5.03370163, ...,   0.        ,\n",
       "           7.        ,   1.        ],\n",
       "        ...,\n",
       "        [ 49.59461404, 306.2386814 ,   6.47814899, ...,   0.        ,\n",
       "           7.        ,   1.        ],\n",
       "        [ 49.59461404, 306.2386814 ,   6.47814899, ...,   0.        ,\n",
       "           7.        ,   1.        ],\n",
       "        [ 49.61431351, 306.25666495,   6.00858753, ...,   0.        ,\n",
       "           7.        ,   1.        ]],\n",
       "\n",
       "       [[ 55.98062913, 298.76890475,   5.19010649, ...,   0.        ,\n",
       "           7.        ,   1.        ],\n",
       "        [ 55.98063653, 299.03909529,   5.03370163, ...,   0.        ,\n",
       "           7.        ,   1.        ],\n",
       "        [ 55.98063264, 299.29338417,   5.22342062, ...,   0.        ,\n",
       "           7.        ,   1.        ],\n",
       "        ...,\n",
       "        [ 49.59461404, 306.2386814 ,   6.47814899, ...,   0.        ,\n",
       "           7.        ,   1.        ],\n",
       "        [ 49.61431351, 306.25666495,   6.00858753, ...,   0.        ,\n",
       "           7.        ,   1.        ],\n",
       "        [ 49.61431351, 306.25666495,   6.00858753, ...,   0.        ,\n",
       "           7.        ,   1.        ]]])"
      ]
     },
     "execution_count": 244,
     "metadata": {},
     "output_type": "execute_result"
    }
   ],
   "source": [
    "X_test"
   ]
  },
  {
   "cell_type": "code",
   "execution_count": 239,
   "metadata": {},
   "outputs": [
    {
     "name": "stdout",
     "output_type": "stream",
     "text": [
      "1681/1681 [==============================] - 77s 43ms/step\n"
     ]
    }
   ],
   "source": [
    "y_test_prob = model.predict(X_test, verbose=1)"
   ]
  },
  {
   "cell_type": "code",
   "execution_count": 246,
   "metadata": {},
   "outputs": [
    {
     "data": {
      "text/plain": [
       "(53781, 200, 10)"
      ]
     },
     "execution_count": 246,
     "metadata": {},
     "output_type": "execute_result"
    }
   ],
   "source": [
    "np.shape(X_test)"
   ]
  },
  {
   "cell_type": "code",
   "execution_count": 240,
   "metadata": {},
   "outputs": [
    {
     "name": "stdout",
     "output_type": "stream",
     "text": [
      "1681/1681 [==============================] - 64s 38ms/step - loss: 0.4202 - binary_accuracy: 0.9018\n"
     ]
    },
    {
     "data": {
      "text/plain": [
       "[0.42019903659820557, 0.9018054604530334]"
      ]
     },
     "execution_count": 240,
     "metadata": {},
     "output_type": "execute_result"
    }
   ],
   "source": [
    "model.evaluate(X_test, y_test)"
   ]
  },
  {
   "cell_type": "code",
   "execution_count": 241,
   "metadata": {},
   "outputs": [],
   "source": [
    "y_test_pred = np.where(y_test_prob > 0.5, 1, 0)"
   ]
  },
  {
   "cell_type": "code",
   "execution_count": 242,
   "metadata": {},
   "outputs": [
    {
     "data": {
      "text/plain": [
       "array([[46359,  3048],\n",
       "       [ 2233,  2141]], dtype=int64)"
      ]
     },
     "execution_count": 242,
     "metadata": {},
     "output_type": "execute_result"
    }
   ],
   "source": [
    "confusion_matrix(y_test, y_test_pred)"
   ]
  },
  {
   "cell_type": "code",
   "execution_count": 243,
   "metadata": {},
   "outputs": [],
   "source": [
    "model.save('LSTM_Model.h5')"
   ]
  },
  {
   "cell_type": "code",
   "execution_count": 249,
   "metadata": {},
   "outputs": [
    {
     "data": {
      "text/plain": [
       "array([[0],\n",
       "       [0],\n",
       "       [0],\n",
       "       ...,\n",
       "       [1],\n",
       "       [1],\n",
       "       [1]])"
      ]
     },
     "execution_count": 249,
     "metadata": {},
     "output_type": "execute_result"
    }
   ],
   "source": [
    "y_test_pred"
   ]
  }
 ],
 "metadata": {
  "interpreter": {
   "hash": "7bdadbcc745afc9ac1e1714124e1bb5770ee7d86d26de672bb194e9104174d2a"
  },
  "kernelspec": {
   "display_name": "Python 3.8.8 64-bit",
   "language": "python",
   "name": "python3"
  },
  "language_info": {
   "codemirror_mode": {
    "name": "ipython",
    "version": 3
   },
   "file_extension": ".py",
   "mimetype": "text/x-python",
   "name": "python",
   "nbconvert_exporter": "python",
   "pygments_lexer": "ipython3",
   "version": "3.8.8"
  },
  "orig_nbformat": 4
 },
 "nbformat": 4,
 "nbformat_minor": 2
}
